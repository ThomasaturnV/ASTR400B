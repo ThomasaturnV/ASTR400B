{
 "cells": [
  {
   "cell_type": "markdown",
   "id": "739941a8",
   "metadata": {},
   "source": [
    "Author: Thomas Joyce\n",
    "\n",
    "Class: ASTR 400B - Galaxies and Cosmology\n",
    "\n",
    "Description: Workbook documenting Homework 3"
   ]
  },
  {
   "cell_type": "markdown",
   "id": "2ba3e068",
   "metadata": {},
   "source": [
    "--------------------------------------------------------------------------------------------------------------------------------"
   ]
  },
  {
   "cell_type": "markdown",
   "id": "41cc333d",
   "metadata": {},
   "source": [
    "Please see submitted python files for Read and ComponentMass functions"
   ]
  },
  {
   "cell_type": "code",
   "execution_count": 2,
   "id": "0446082f",
   "metadata": {},
   "outputs": [],
   "source": [
    "### Importations ###\n",
    "# Numpy and Astropy\n",
    "import numpy as np\n",
    "import astropy.units as u\n",
    "# External (must be in same directory as Homework3)\n",
    "from ReadFile import Read \n",
    "from GalaxyMass import ComponentMass"
   ]
  },
  {
   "cell_type": "code",
   "execution_count": null,
   "id": "79745032",
   "metadata": {},
   "outputs": [],
   "source": [
    "def LatexArray(Array):\n",
    "    '''\n",
    "    Description: Converts a 2D Array to a LaTeX tabular format \n",
    "    \n",
    "    Inputs:\n",
    "    \n",
    "    Returns:\n",
    "    '''\n",
    "    \n",
    "    Ncol = len(Array[0])  # Get the number of columns\n",
    "    LatexCode = \"\\\\begin{tabular}{\" + \" | \".join([\"c\"] * Ncol) + \"}\\n\\\\hline\\n\" # First line to initialize latex table\n",
    "\n",
    "    for row in Array: # iterating through array row by row\n",
    "        LatexCode += \" & \".join(map(str, row)) + \" \\\\\\\\\\n\\\\hline\\n\" # adding a row incrementally through string addition\n",
    "\n",
    "    LatexCode += \"\\\\end{tabular}\" # ending table object\n",
    "    return LatexCode"
   ]
  },
  {
   "cell_type": "code",
   "execution_count": null,
   "id": "7ed3f7bc",
   "metadata": {},
   "outputs": [],
   "source": [
    "### MAIN Function ###\n",
    "def MAIN():\n",
    "    ''' Executes the Program to answer part 3 of Homework 3 '''\n",
    "    \n",
    "    ######################### USER INPUTS #########################\n",
    "    ParticleType = 2 # int (1, 2, or 3) 1 = dark matter, 2 = disk stars, 3 = bulge stars\n",
    "    ParticleNumber = 100 # int, particle number desired\n",
    "    Tkinter = True # bool, if you would prefer a GUI driven file selection use True, if False fill out NoTKFileName below\n",
    "    NOTKFileName = 'MW_000.txt' # string, filename for text file if you don't want to use TK. File must be in same directory!\n",
    "    #########################-------------#########################\n",
    "    \n",
    "    if Tkinter == True:\n",
    "        # Navigating to file using Tkinter #\n",
    "        # Use this to select the folder where your data is\n",
    "        root = Tk()\n",
    "        Path = askopenfilename(title = \"Select file\",filetypes = ((\"txt files\",\"*.txt\"),(\"all files\",\"*.*\")))\n",
    "        FilePath = os.path.split(os.path.abspath(Path))[0]\n",
    "        FileName = os.path.split(os.path.abspath(Path))[1]\n",
    "        root.destroy()\n",
    "    \n",
    "        os.chdir(FilePath)\n",
    "        \n",
    "    if Tkinter == False:\n",
    "        FileName = NOTKFileName\n",
    "    \n",
    "    Distance, VelocityMagnitude, M = ParticleInfo(FileName, ParticleType, ParticleNumber)\n",
    "    \n",
    "    print('Distance: ' + str(Distance))\n",
    "    print('Velocity Magnitude: ' + str(VelocityMagnitude))\n",
    "    print('Mass: ' + str(M))\n",
    "    \n",
    "    LyrD = np.around((Distance.to(u.lyr)), 3)\n",
    "    print('Converting distance to lightyears:' + str(LyrD))\n",
    "    \n",
    "### END MAIN\n",
    "\n",
    "### Execution ###\n",
    "MAIN()"
   ]
  },
  {
   "cell_type": "code",
   "execution_count": null,
   "id": "5296b775",
   "metadata": {},
   "outputs": [],
   "source": []
  }
 ],
 "metadata": {
  "kernelspec": {
   "display_name": "Python 3 (ipykernel)",
   "language": "python",
   "name": "python3"
  },
  "language_info": {
   "codemirror_mode": {
    "name": "ipython",
    "version": 3
   },
   "file_extension": ".py",
   "mimetype": "text/x-python",
   "name": "python",
   "nbconvert_exporter": "python",
   "pygments_lexer": "ipython3",
   "version": "3.11.3"
  }
 },
 "nbformat": 4,
 "nbformat_minor": 5
}
