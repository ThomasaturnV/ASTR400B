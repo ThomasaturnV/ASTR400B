{
 "cells": [
  {
   "cell_type": "markdown",
   "id": "5edfeef7",
   "metadata": {},
   "source": [
    "Author: Thomas Joyce\n",
    "\n",
    "Class: ASTR 400B - Galaxies and Cosmology\n",
    "\n",
    "Description: Workbook documenting Homework 2"
   ]
  },
  {
   "cell_type": "markdown",
   "id": "e5da0bfe",
   "metadata": {},
   "source": [
    "--------------------------------------------------------------------------------------------------------------------------------"
   ]
  },
  {
   "cell_type": "markdown",
   "id": "f3a8e1de",
   "metadata": {},
   "source": [
    "Please see submitted python files for Read and ParticleInfo functions"
   ]
  },
  {
   "cell_type": "code",
   "execution_count": 1,
   "id": "ca20a7fd",
   "metadata": {},
   "outputs": [],
   "source": [
    "### Importations ###\n",
    "# Numpy and Astropy\n",
    "import numpy as np\n",
    "import astropy.units as u\n",
    "# File Management\n",
    "import os\n",
    "from tkinter import Tk\n",
    "from tkinter import filedialog\n",
    "from tkinter.filedialog import askopenfilename\n",
    "import glob\n",
    "# External (must be in same directory as Homework2)\n",
    "from ReadFile import Read \n",
    "from ParticleProperties import ParticleInfo"
   ]
  },
  {
   "cell_type": "code",
   "execution_count": 2,
   "id": "45222ad2",
   "metadata": {},
   "outputs": [
    {
     "name": "stdout",
     "output_type": "stream",
     "text": [
      "Please select Input file: MW_000.txt\n",
      "Distance: 4.245 kpc\n",
      "Velocity Magnitude: 312.135 km / s\n",
      "Mass: 0.0001 solMass\n",
      "Converting distance to lightyears:13845.338 lyr\n"
     ]
    }
   ],
   "source": [
    "### MAIN Function ###\n",
    "def MAIN():\n",
    "    ''' Executes the Program to answer part 5 of Homework 2 '''\n",
    "    \n",
    "    ######################### USER INPUTS #########################\n",
    "    ParticleType = 2 # int (1, 2, or 3) 1 = dark matter, 2 = disk stars, 3 = bulge stars\n",
    "    ParticleNumber = 100 # int, particle number desired\n",
    "    Tkinter = True # bool, if you would prefer a GUI driven file selection use True, if False fill out NoTKFileName below\n",
    "    NOTKFileName = 'MW_000.txt' # string, filename for MW_000.txt if you don't want to use TK. File must be in same directory!\n",
    "    #########################-------------#########################\n",
    "    \n",
    "    if Tkinter == True:\n",
    "        # Navigating to file using Tkinter #\n",
    "        # Use this to select the folder where your data is\n",
    "        print(\"Please select Input file: MW_000.txt\")\n",
    "        root = Tk()\n",
    "        Path = askopenfilename(title = \"Select file\",filetypes = ((\"txt files\",\"*.txt\"),(\"all files\",\"*.*\")))\n",
    "        FilePath = os.path.split(os.path.abspath(Path))[0]\n",
    "        FileName = os.path.split(os.path.abspath(Path))[1]\n",
    "        root.destroy()\n",
    "    \n",
    "        os.chdir(FilePath)\n",
    "        \n",
    "    if Tkinter == False:\n",
    "        FileName = NOTKFileName\n",
    "    \n",
    "    Distance, VelocityMagnitude, M = ParticleInfo(FileName, ParticleType, ParticleNumber)\n",
    "    \n",
    "    print('Distance: ' + str(Distance))\n",
    "    print('Velocity Magnitude: ' + str(VelocityMagnitude))\n",
    "    print('Mass: ' + str(M))\n",
    "    \n",
    "    LyrD = np.around((Distance.to(u.lyr)), 3)\n",
    "    print('Converting distance to lightyears:' + str(LyrD))\n",
    "    \n",
    "### END MAIN\n",
    "\n",
    "### Execution ###\n",
    "MAIN()"
   ]
  }
 ],
 "metadata": {
  "kernelspec": {
   "display_name": "Python 3 (ipykernel)",
   "language": "python",
   "name": "python3"
  },
  "language_info": {
   "codemirror_mode": {
    "name": "ipython",
    "version": 3
   },
   "file_extension": ".py",
   "mimetype": "text/x-python",
   "name": "python",
   "nbconvert_exporter": "python",
   "pygments_lexer": "ipython3",
   "version": "3.11.3"
  }
 },
 "nbformat": 4,
 "nbformat_minor": 5
}
