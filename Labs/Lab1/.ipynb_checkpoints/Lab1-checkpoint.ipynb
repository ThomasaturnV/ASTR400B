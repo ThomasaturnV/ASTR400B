{
 "cells": [
  {
   "cell_type": "markdown",
   "metadata": {},
   "source": [
    "# In Class Lab 1\n",
    "\n",
    "### Due by midnight, thursday in your github repository 'Labs/Lab1' folder\n"
   ]
  },
  {
   "cell_type": "code",
   "execution_count": 5,
   "metadata": {},
   "outputs": [],
   "source": [
    "# Import Modules \n",
    "import numpy as np # import numpy\n",
    "import astropy.units as u # import astropy units\n",
    "from astropy import constants as const # import astropy constants"
   ]
  },
  {
   "cell_type": "markdown",
   "metadata": {},
   "source": [
    "### Astropy Units:  https://docs.astropy.org/en/stable/units/index.html"
   ]
  },
  {
   "cell_type": "markdown",
   "metadata": {},
   "source": [
    "\n",
    "## Part A:  The Local Standard of Rest\n",
    "Proper motion of Sgr A* from Reid & Brunthaler 2004\n",
    "$\\mu = 6.379$ mas/yr \n",
    "\n",
    "Peculiar motion of the sun, $v_\\odot$ = 12.24 km/s  (Schonrich 2010)\n",
    "\n",
    "\n",
    "$v_{tan} = 4.74 \\frac{\\mu}{\\rm mas/yr} \\frac{R_o}{\\rm kpc} = V_{LSR} + v_\\odot$\n",
    "\n",
    "\n",
    "### a)\n",
    "\n",
    "Create a function called VLSR to compute the local standard of rest (V$_{LSR}$).\n",
    "\n",
    "The function should take as input: the solar radius (R$_o$), the proper motion (mu)\n",
    "and the peculiar motion of the sun in the $v_\\odot$ direction.\n",
    "\n",
    "Compute V$_{LSR}$ using three different values R$_o$: \n",
    "1. Water Maser Distance for the Sun :  R$_o$ = 8.34 kpc   (Reid 2014 ApJ 783) \n",
    "2. GRAVITY Collaboration Distance for the Sun:  R$_o$ = 8.178 kpc   (Abuter+2019 A&A 625)\n",
    "3. Value for Distance to Sun listed in Sparke & Gallagher : R$_o$ = 7.9 kpc \n"
   ]
  },
  {
   "cell_type": "code",
   "execution_count": 6,
   "metadata": {},
   "outputs": [],
   "source": [
    "def VLSR(R_0, mu, V_pec):\n",
    "    '''\n",
    "    Description: Computes the local standard of rest velocity given the inputs. Using equation above in part A. \n",
    "    \n",
    "    Inputs:\n",
    "        - R_0: Distance of sun from galactic center in kpc (float)\n",
    "        - mu: proper motion of Sgr A* in mas/yr (float)\n",
    "        - V_pec: peculiar motion of the sun in km/s (float)\n",
    "    Returns:\n",
    "        V_lsr: The local standard of rest velocity in km/s (astropy entity)\n",
    "    '''\n",
    "    V_lsr = ((4.74 * mu * R_0) - V_pec) * (u.km / u.second) # Equation from part A to compute V_lsr\n",
    "    return V_lsr\n",
    "### END VSLR"
   ]
  },
  {
   "cell_type": "code",
   "execution_count": 13,
   "metadata": {},
   "outputs": [],
   "source": [
    "def Main_Aa():\n",
    "    ''' Executes part a of assignment '''\n",
    "    \n",
    "    mu = 6.379 # mas/yr\n",
    "    V_pec = 12.24 #km/s\n",
    "    \n",
    "    R_0 = [8.34, 8.178, 7.9] # 3 different source values for R_0 in kpc\n",
    "    Source = ['Reid 2014 ApJ 783', 'Abuter+2019 A&A 625', 'Sparke & Gallagher'] # sources associated with each R_0 value\n",
    "    \n",
    "    for index in range(0, len(R_0)): # running calculations iteratively\n",
    "        V_lsr = VLSR(R_0[index], mu, V_pec) # determining local standard of rest velocity per R_0 value\n",
    "        print(Source[index] + ' | Local standard of rest velocity: ' + str(np.round(V_lsr, 3))) # print statement showing answers\n",
    "### END Main_Aa       "
   ]
  },
  {
   "cell_type": "code",
   "execution_count": 14,
   "metadata": {},
   "outputs": [
    {
     "name": "stdout",
     "output_type": "stream",
     "text": [
      "Reid 2014 ApJ 783 | Local standard of rest velocity: 239.932 km / s\n",
      "Abuter+2019 A&A 625 | Local standard of rest velocity: 235.034 km / s\n",
      "Sparke & Gallagher | Local standard of rest velocity: 226.628 km / s\n"
     ]
    }
   ],
   "source": [
    "### Execution ###\n",
    "Main_Aa()"
   ]
  },
  {
   "cell_type": "markdown",
   "metadata": {},
   "source": [
    "### b)\n",
    "\n",
    "compute the orbital period of the sun in Gyr using R$_o$ from the GRAVITY Collaboration (assume circular orbit)\n",
    "\n",
    "Note that 1 km/s $\\sim$ 1kpc/Gyr"
   ]
  },
  {
   "cell_type": "code",
   "execution_count": 17,
   "metadata": {},
   "outputs": [],
   "source": [
    "def OrbitalPeriod(V_lsr, R_0):\n",
    "    '''\n",
    "    Description: Assuming a circular orbit, determines the orbital period based upon V_lsr and R_0 by the equation below\n",
    "    Period = (2 * pi * R_0) / V_lsr --> adjusting for units using the approximation that 1km/s ~ 1kpc/Gyr \n",
    "    \n",
    "    Inputs:\n",
    "        - V_lsr: Local standard of rest velocity in km/s (astopy entity)\n",
    "        - R_0: Distance of sun from galactic center in kpc (float)\n",
    "    \n",
    "    Returns:\n",
    "        - Period: Orbital period of the sun in the galaxy obtained from a \n",
    "        circular orbit approximation in Gyrs (astropy entity)\n",
    "    '''  \n",
    "    \n",
    "    Period = (2 * np.pi * (R_0 * u.kpc)) / (V_lsr.to(u.kpc / u.Gyr)) # Determining Period based upon description equation\n",
    "    return Period\n",
    "### END OrbitalPeriod"
   ]
  },
  {
   "cell_type": "code",
   "execution_count": 20,
   "metadata": {},
   "outputs": [],
   "source": [
    "def Main_Ab():\n",
    "    ''' Executes part b of assignment '''\n",
    "    \n",
    "    mu = 6.379 # mas/yr\n",
    "    V_pec = 12.24 #km/s\n",
    "    \n",
    "    R_0 = [8.34, 8.178, 7.9] # 3 different source values for R_0 in kpc\n",
    "    Source = ['Reid 2014 ApJ 783', 'Abuter+2019 A&A 625', 'Sparke & Gallagher'] # sources associated with each R_0 value\n",
    "    \n",
    "    for index in range(0, len(R_0)): # running calculations iteratively\n",
    "        V_lsr = VLSR(R_0[index], mu, V_pec) # determining local standard of rest velocity per R_0 value\n",
    "        period = OrbitalPeriod(V_lsr, R_0[index]) # determining period per R_0 and V_lsr value\n",
    "        print(Source[index] + ' | Orbital Period of Sun: ' + str(np.around(period, 5))) # print sttement to display answers\n",
    "### END MAin_Ab"
   ]
  },
  {
   "cell_type": "code",
   "execution_count": 21,
   "metadata": {},
   "outputs": [
    {
     "name": "stdout",
     "output_type": "stream",
     "text": [
      "Reid 2014 ApJ 783 | Orbital Period of Sun: 0.21355 Gyr\n",
      "Abuter+2019 A&A 625 | Orbital Period of Sun: 0.21377 Gyr\n",
      "Sparke & Gallagher | Orbital Period of Sun: 0.21416 Gyr\n"
     ]
    }
   ],
   "source": [
    "### Execution ###\n",
    "Main_Ab()"
   ]
  },
  {
   "cell_type": "markdown",
   "metadata": {},
   "source": [
    "### c)\n",
    "\n",
    "Compute the number of rotations about the GC over the age of the universe (13.8 Gyr)"
   ]
  },
  {
   "cell_type": "code",
   "execution_count": 22,
   "metadata": {},
   "outputs": [],
   "source": [
    "def NRotations(Period):\n",
    "    '''\n",
    "    Description: Determines the amount of rotations about the galactic center based upon the age of the universe (13.8 Gyrs) \n",
    "    based upon the equation\n",
    "    Rotations = Age / (Orbital period of Sun)\n",
    "    \n",
    "    Inputs:\n",
    "        - Period: Orbital period of the sun in the galaxy in Gyrs (astropy entity)\n",
    "    \n",
    "    Returns:\n",
    "        - N: Represents the amount of rotations about the center of the galaxy for the Sun\n",
    "    '''\n",
    "    \n",
    "    Age = 13.8 * (u.Gyr) # Age of universe in astropy Gyrs\n",
    "    \n",
    "    N = Age / Period # Amount of rotations about the center of galaxy\n",
    "    return N\n",
    "### END NRotations"
   ]
  },
  {
   "cell_type": "code",
   "execution_count": 25,
   "metadata": {},
   "outputs": [],
   "source": [
    "def Main_Ac():\n",
    "    ''' Executes part c of assignment '''\n",
    "    \n",
    "    mu = 6.379 # mas/yr\n",
    "    V_pec = 12.24 #km/s\n",
    "    \n",
    "    R_0 = [8.34, 8.178, 7.9] # 3 different source values for R_0 in kpc\n",
    "    Source = ['Reid 2014 ApJ 783', 'Abuter+2019 A&A 625', 'Sparke & Gallagher'] # sources associated with each R_0 value\n",
    "    \n",
    "    for index in range(0, len(R_0)): # running calculations iteratively\n",
    "        V_lsr = VLSR(R_0[index], mu, V_pec) # determining local standard of rest velocity per R_0 value\n",
    "        period = OrbitalPeriod(V_lsr, R_0[index]) # determining period per R_0 and V_lsr value\n",
    "        N = NRotations(period) # amount of protations per period \n",
    "        print(Source[index] + ' | Amount of rotations: ' + str(np.around(N, 3))) # print statement to show answers\n",
    "### END MAin_Ac"
   ]
  },
  {
   "cell_type": "code",
   "execution_count": 26,
   "metadata": {},
   "outputs": [
    {
     "name": "stdout",
     "output_type": "stream",
     "text": [
      "Reid 2014 ApJ 783 | Amount of rotations: 64.621\n",
      "Abuter+2019 A&A 625 | Amount of rotations: 64.556\n",
      "Sparke & Gallagher | Amount of rotations: 64.438\n"
     ]
    }
   ],
   "source": [
    "### Execution ###\n",
    "Main_Ac()"
   ]
  },
  {
   "cell_type": "markdown",
   "metadata": {},
   "source": [
    "## Part B  Dark Matter Density Profiles\n",
    "\n",
    "### a)\n",
    "Try out Fitting Rotation Curves \n",
    "[here](http://wittman.physics.ucdavis.edu/Animations/RotationCurve/GalacticRotation.html)\n",
    "\n",
    "\n",
    "### b)\n",
    "\n",
    "\n",
    "In the Isothermal Sphere model, what is the mass enclosed within the solar radius (R$_o$) in units of M$_\\odot$? \n",
    "\n",
    "Recall that for the Isothermal sphere :\n",
    "$\\rho(r) = \\frac{V_{LSR}^2}{4\\pi G r^2}$\n",
    "\n",
    "Where $G$ = 4.4985e-6 kpc$^3$/Gyr$^2$/M$_\\odot$, r is in kpc and $V_{LSR}$ is in km/s\n",
    "\n",
    "What about at 260 kpc (in units of  M$_\\odot$) ? "
   ]
  },
  {
   "cell_type": "code",
   "execution_count": 37,
   "metadata": {},
   "outputs": [],
   "source": [
    "def MassEnclosed(R, V_lsr):\n",
    "    ''' \n",
    "    Description: Intergrates the equation of density up to a specified radius, However due to the spherical symmetry \n",
    "    of the problem, and the isothermal model making V_lsr constant then we have:\n",
    "    rho = (V_lsr^2) / (4pi * G * R^2)\n",
    "    M = Intergral(rho * dv) = Intergral(4pi * r^2 * rho * dr)\n",
    "    M = (V_lsr^2 / G)R\n",
    "\n",
    "    Inputs:\n",
    "        - R: radius of specified point in kpc (float)\n",
    "        - V_lsr: Local standard of rest velocity in km/s (astopy entity)\n",
    "    \n",
    "    Returns:\n",
    "        - M_enc: Mass enclosed at a specified radius in M_sun (astropy entity)\n",
    "    '''\n",
    "    \n",
    "    G = const.G.to(((u.kpc ** 3) / ((u.Gyr ** 2) * u.M_sun))) # fundamental gravitational constant in units of kpc^3 / (Gyr^2 * M_sun)\n",
    "    \n",
    "    M_enc = (((V_lsr.to(u.kpc / u.Gyr)) ** 2) / G) * (R * u.kpc) \n",
    "    \n",
    "    return M_enc\n",
    "### END MassEnclosed"
   ]
  },
  {
   "cell_type": "code",
   "execution_count": 42,
   "metadata": {},
   "outputs": [],
   "source": [
    "def Main_Bb():\n",
    "    ''' Executes part b of assignment '''\n",
    "    \n",
    "    mu = 6.379 # mas/yr\n",
    "    V_pec = 12.24 #km/s\n",
    "    \n",
    "    R_0 = [8.34, 8.178, 7.9] # 3 different source values for R_0 in kpc\n",
    "    Source = ['Reid 2014 ApJ 783', 'Abuter+2019 A&A 625', 'Sparke & Gallagher'] # sources associated with each R_0 value\n",
    "    \n",
    "    print('--- @ Ro from sources ---')\n",
    "    \n",
    "    for index in range(0, len(R_0)): # running calculations iteratively\n",
    "        V_lsr = VLSR(R_0[index], mu, V_pec) # determining local standard of rest velocity per R_0 value\n",
    "        M_enc = MassEnclosed(R_0[index], V_lsr)\n",
    "        print(Source[index] + ' | Mass Enclosed: ' + f'{M_enc:.2e}') # print statement to show answers\n",
    "        \n",
    "    # Computing M_enc at radius of 260 kpc using each source. \n",
    "    R = 260 # kpc\n",
    "    \n",
    "    print('--- @ 260 kpc ---')\n",
    "    \n",
    "    for index in range(0, len(R_0)): # running calculations iteratively\n",
    "        V_lsr = VLSR(R_0[index], mu, V_pec) # determining local standard of rest velocity per R_0 value\n",
    "        M_enc = MassEnclosed(R, V_lsr)\n",
    "        print(Source[index] + ' | Mass Enclosed: ' + f'{M_enc:.2e}') # print statement to show answers\n",
    "    \n",
    "### END MAin_Bb"
   ]
  },
  {
   "cell_type": "code",
   "execution_count": 43,
   "metadata": {},
   "outputs": [
    {
     "name": "stdout",
     "output_type": "stream",
     "text": [
      "--- @ Ro from sources ---\n",
      "Reid 2014 ApJ 783 | Mass Enclosed: 1.12e+11 solMass\n",
      "Abuter+2019 A&A 625 | Mass Enclosed: 1.05e+11 solMass\n",
      "Sparke & Gallagher | Mass Enclosed: 9.43e+10 solMass\n",
      "--- @ 260 kpc ---\n",
      "Reid 2014 ApJ 783 | Mass Enclosed: 3.48e+12 solMass\n",
      "Abuter+2019 A&A 625 | Mass Enclosed: 3.34e+12 solMass\n",
      "Sparke & Gallagher | Mass Enclosed: 3.10e+12 solMass\n"
     ]
    }
   ],
   "source": [
    "### Execution ###\n",
    "Main_Bb()"
   ]
  },
  {
   "cell_type": "markdown",
   "metadata": {},
   "source": [
    "## c) \n",
    "\n",
    "The Leo I satellite is one of the fastest moving satellite galaxies we know. \n",
    "\n",
    "\n",
    "It is moving with 3D velocity of magnitude: Vtot = 196 km/s at a distance of 260 kpc (Sohn 2013 ApJ 768)\n",
    "\n",
    "If we assume that Leo I is moving at the escape speed:\n",
    "\n",
    "$v_{esc}^2 = 2|\\Phi| = 2 \\int G \\frac{\\rho(r)}{r}dV $ \n",
    "\n",
    "and assuming the Milky Way is well modeled by a Hernquist Sphere with a scale radius of $a$= 30 kpc, what is the minimum mass of the Milky Way (in units of M$_\\odot$) ?  \n",
    "\n",
    "How does this compare to estimates of the mass assuming the Isothermal Sphere model at 260 kpc (from your answer above)"
   ]
  },
  {
   "cell_type": "code",
   "execution_count": 49,
   "metadata": {},
   "outputs": [],
   "source": [
    "def MassHern(V_esc, a, r):\n",
    "    '''\n",
    "    Description: Determines the total dark matter mass needed for the galaxy, based upon the Hernquist model. \n",
    "    \n",
    "    Inputs:\n",
    "         - V_esc: Escape speed of satellite in km/s (astropy entity)\n",
    "         - a: The hernquist scale length in kpc (default value is 30 kpc) (astropy entity)\n",
    "         - r: Distance from galactic center in kpc (astropy entity)\n",
    "    \n",
    "    Returns:\n",
    "        - M_enc: Mass enclosed within a radius of r in M_sun (astropy entity)\n",
    "    '''\n",
    "    \n",
    "    G = const.G.to(((u.kpc ** 3) / ((u.Gyr ** 2) * u.M_sun))) # fundamental gravitational constant in units of kpc^3 / (Gyr^2 * M_sun)\n",
    "    \n",
    "    M_enc = (V_esc.to(u.kpc / u.Gyr) ** 2) * (r + a) / (2 * G)\n",
    "    \n",
    "    return M_enc\n",
    "### END MassHern"
   ]
  },
  {
   "cell_type": "code",
   "execution_count": 52,
   "metadata": {},
   "outputs": [],
   "source": [
    "def Main_Bc():\n",
    "    ''' Executes part c of assignment '''\n",
    "    \n",
    "    a = 30 * u.kpc # Default Hernquist scale length in kpc\n",
    "    \n",
    "    V_leo = 196 * (u.km / u.second) # Escape speed of Leo I satellite from Sohn et al.\n",
    "    \n",
    "    R = 260 * u.kpc\n",
    "    \n",
    "    M_enc = MassHern(V_leo, a, R)\n",
    "    \n",
    "    print('Mass Enclosed @ ' + f'{R}' + ': ' + f'{M_enc:.2e}')\n",
    "    \n",
    "### END Main_Bc"
   ]
  },
  {
   "cell_type": "code",
   "execution_count": 53,
   "metadata": {},
   "outputs": [
    {
     "name": "stdout",
     "output_type": "stream",
     "text": [
      "Mass Enclosed @ 260.0 kpc: 1.30e+12 solMass\n"
     ]
    }
   ],
   "source": [
    "### Execution ###\n",
    "Main_Bc()"
   ]
  }
 ],
 "metadata": {
  "kernelspec": {
   "display_name": "Python 3 (ipykernel)",
   "language": "python",
   "name": "python3"
  },
  "language_info": {
   "codemirror_mode": {
    "name": "ipython",
    "version": 3
   },
   "file_extension": ".py",
   "mimetype": "text/x-python",
   "name": "python",
   "nbconvert_exporter": "python",
   "pygments_lexer": "ipython3",
   "version": "3.11.3"
  }
 },
 "nbformat": 4,
 "nbformat_minor": 2
}
